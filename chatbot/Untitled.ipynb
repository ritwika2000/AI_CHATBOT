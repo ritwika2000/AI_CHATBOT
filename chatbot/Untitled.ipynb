{
 "cells": [
  {
   "cell_type": "code",
   "execution_count": 1,
   "id": "b08df73a",
   "metadata": {},
   "outputs": [],
   "source": [
    "import nltk\n",
    "import numpy as np\n",
    "import json\n",
    "# nltk.download('punkt')\n",
    "from nltk.stem.porter import PorterStemmer\n",
    "import torch\n",
    "import torch.nn as nn\n",
    "from torch.utils.data import Dataset,DataLoader"
   ]
  },
  {
   "cell_type": "code",
   "execution_count": 2,
   "id": "14e5dac8",
   "metadata": {},
   "outputs": [],
   "source": [
    "stemmer=PorterStemmer()\n",
    "\n",
    "def tokenize(sentence):\n",
    "    return nltk.word_tokenize(sentence)\n",
    "\n",
    "def stem(word):\n",
    "    return stemmer.stem(word.lower())\n",
    "\n",
    "def bag_of_words(tokenized_sentence,words):\n",
    "    sentence_words=[stem(word) for word in tokenized_sentence]\n",
    "    bag=np.zeros(len(words),dtype=np.float32)\n",
    "    \n",
    "    for idx,w in enumerate(words):\n",
    "        if w in sentence_words:\n",
    "            bag[idx]=1\n",
    "     \n",
    "    return bag"
   ]
  },
  {
   "cell_type": "code",
   "execution_count": 3,
   "id": "5ca1caed",
   "metadata": {},
   "outputs": [],
   "source": [
    "with open('intents.json','r') as f:\n",
    "    intents=json.load(f)\n",
    "    \n",
    "\n",
    "all_words=[]\n",
    "tags=[]\n",
    "xy=[]\n",
    "\n",
    "for intent in intents['intents']:\n",
    "    tag=intent['tag']\n",
    "    tags.append(tag)\n",
    "    for pattern in intent['patterns']:\n",
    "        w=tokenize(pattern)\n",
    "        all_words.extend(w)\n",
    "        xy.append((w,tag))\n",
    "\n",
    "ignore_words=['?','!','.',',']\n",
    "all_words=[stem(w) for w in all_words if w not in ignore_words]\n",
    "\n",
    "all_words=sorted(set(all_words))\n",
    "tags=sorted(tags)\n",
    "\n",
    "#print(all_words)\n",
    "# print(tags)\n",
    "\n",
    "x_train=[]\n",
    "y_train=[]\n",
    "\n",
    "for (pattern_sentence,tag) in xy:\n",
    "    bag=bag_of_words(pattern_sentence,all_words)\n",
    "    x_train.append(bag)\n",
    "    label=tags.index(tag)\n",
    "    y_train.append(label)\n",
    "    \n",
    "   \n",
    "x_train=np.array(x_train)\n",
    "y_train=np.array(y_train)\n",
    "\n",
    "# print(x_train)\n",
    "# print(y_train)"
   ]
  },
  {
   "cell_type": "code",
   "execution_count": 4,
   "id": "976f0b01",
   "metadata": {},
   "outputs": [],
   "source": [
    "#model\n",
    "import torch\n",
    "import torch.nn as nn\n",
    "\n",
    "class neuralnet(nn.Module):\n",
    "    def __init__(self,input_size,hidden_size,num_classes):\n",
    "        super(neuralnet,self).__init__()\n",
    "        self.l1=nn.Linear(input_size,hidden_size)\n",
    "        self.l2=nn.Linear(hidden_size,hidden_size)\n",
    "        self.l3=nn.Linear(hidden_size,num_classes)\n",
    "        self.relu=nn.ReLU()\n",
    "        \n",
    "    def forward(self,x):\n",
    "        out=self.l1(x)\n",
    "        out=self.relu(out)\n",
    "        out=self.l2(out)\n",
    "        out=self.relu(out)\n",
    "        out=self.l3(out)\n",
    "        \n",
    "        return out\n",
    "    "
   ]
  },
  {
   "cell_type": "code",
   "execution_count": 5,
   "id": "2677a2e9",
   "metadata": {},
   "outputs": [],
   "source": [
    "class chatdataset(Dataset):\n",
    "    def __init__(self):\n",
    "        self.n_samples=len(x_train)\n",
    "        self.x_data=x_train\n",
    "        self.y_data=y_train\n",
    "        \n",
    "    def __getitem__(self,idx):\n",
    "        return self.x_data[idx],self.y_data[idx]\n",
    "    \n",
    "    def __len__(self):\n",
    "        return self.n_samples\n",
    "    \n",
    "    \n",
    "\n",
    "batch_size=8\n",
    "num_epoch=1000\n",
    "learning_rate=0.001\n",
    "input_size=len(x_train[0])\n",
    "hidden_size=8\n",
    "output_size=len(tags)\n",
    "\n",
    "\n",
    "dataset=chatdataset()\n",
    "train_loader=DataLoader(dataset=dataset,batch_size=batch_size,shuffle=True,num_workers=0)\n"
   ]
  },
  {
   "cell_type": "code",
   "execution_count": 6,
   "id": "8acea4ac",
   "metadata": {},
   "outputs": [
    {
     "name": "stdout",
     "output_type": "stream",
     "text": [
      "Epoch [100/1000], Loss: 1.3474\n",
      "Epoch [200/1000], Loss: 0.1456\n",
      "Epoch [300/1000], Loss: 0.0380\n",
      "Epoch [400/1000], Loss: 0.0389\n",
      "Epoch [500/1000], Loss: 0.0088\n",
      "Epoch [600/1000], Loss: 0.0015\n",
      "Epoch [700/1000], Loss: 0.0055\n",
      "Epoch [800/1000], Loss: 0.0014\n",
      "Epoch [900/1000], Loss: 0.0007\n",
      "Epoch [1000/1000], Loss: 0.0014\n",
      "final loss: 0.0014\n"
     ]
    }
   ],
   "source": [
    "device=torch.device('cuda' if torch.cuda.is_available() else 'cpu')\n",
    "model=neuralnet(input_size,hidden_size,output_size).to(device)\n",
    "\n",
    "#loss and optimizer\n",
    "criterion = nn.CrossEntropyLoss()\n",
    "optimizer = torch.optim.Adam(model.parameters(), lr=learning_rate)\n",
    "\n",
    "\n",
    "for epoch in range(num_epoch):\n",
    "    for (words,labels) in train_loader:\n",
    "        words=words.to(device)\n",
    "        labels=labels.to(dtype=torch.long).to(device)\n",
    "        \n",
    "        #forward\n",
    "        outputs=model(words)\n",
    "        loss=criterion(outputs,labels)\n",
    "        \n",
    "        #backward\n",
    "        optimizer.zero_grad()\n",
    "        loss.backward()\n",
    "        optimizer.step()\n",
    "        \n",
    "    if (epoch+1) % 100 == 0:\n",
    "        print (f'Epoch [{epoch+1}/{num_epoch}], Loss: {loss.item():.4f}')\n",
    "\n",
    "\n",
    "print(f'final loss: {loss.item():.4f}')  \n",
    "        "
   ]
  },
  {
   "cell_type": "code",
   "execution_count": 7,
   "id": "159096cd",
   "metadata": {},
   "outputs": [],
   "source": [
    "model_state=model.state_dict()"
   ]
  },
  {
   "cell_type": "code",
   "execution_count": 8,
   "id": "12971327",
   "metadata": {},
   "outputs": [],
   "source": [
    "import random"
   ]
  },
  {
   "cell_type": "code",
   "execution_count": 9,
   "id": "ca96ce06",
   "metadata": {},
   "outputs": [
    {
     "data": {
      "text/plain": [
       "neuralnet(\n",
       "  (l1): Linear(in_features=54, out_features=8, bias=True)\n",
       "  (l2): Linear(in_features=8, out_features=8, bias=True)\n",
       "  (l3): Linear(in_features=8, out_features=7, bias=True)\n",
       "  (relu): ReLU()\n",
       ")"
      ]
     },
     "execution_count": 9,
     "metadata": {},
     "output_type": "execute_result"
    }
   ],
   "source": [
    "mm=neuralnet(input_size,hidden_size,output_size).to(device)\n",
    "mm.load_state_dict(model_state)\n",
    "mm.eval()"
   ]
  },
  {
   "cell_type": "code",
   "execution_count": 11,
   "id": "4d53301b",
   "metadata": {},
   "outputs": [
    {
     "name": "stdout",
     "output_type": "stream",
     "text": [
      "Let's chat! type 'quit' to exit\n",
      "You:hi alice\n",
      "Alice: Hello, thanks for visiting\n",
      "You:how are you\n",
      "Alice: Hi there, how can I help?\n",
      "You:which item you have\n",
      "Alice: We have coffee and tea\n",
      "You:what is the price\n",
      "Alice: Have a nice day\n",
      "You:good bye\n",
      "Alice: Have a nice day\n",
      "You:quit\n"
     ]
    }
   ],
   "source": [
    "bot_name=\"Alice\"\n",
    "print(\"Let's chat! type 'quit' to exit\")\n",
    "while True:\n",
    "    sentence=input('You:')\n",
    "    if(sentence == \"quit\"):\n",
    "        break\n",
    "        \n",
    "    sentence=tokenize(sentence)\n",
    "    x=bag_of_words(sentence,all_words)\n",
    "    x=x.reshape(1,x.shape[0])\n",
    "    x=torch.from_numpy(x).to(device)\n",
    "    \n",
    "    output=mm(x)\n",
    "    #value,index\n",
    "    _,predicted=torch.max(output,dim=1)\n",
    "    tag = tags[predicted.item()]\n",
    "    \n",
    "    probs=torch.softmax(output,dim=1)\n",
    "    prob=probs[0][predicted.item()]\n",
    "    \n",
    "    if prob.item()>0.75:\n",
    "        for intent in intents[\"intents\"]:\n",
    "            if tag == intent[\"tag\"]:\n",
    "                print(f'{bot_name}: {random.choice(intent[\"responses\"])}')\n",
    "    else:\n",
    "        print(f'{bot_name}:I do not understand')"
   ]
  },
  {
   "cell_type": "code",
   "execution_count": null,
   "id": "63737fa7",
   "metadata": {},
   "outputs": [],
   "source": []
  },
  {
   "cell_type": "code",
   "execution_count": null,
   "id": "7d3ea1e7",
   "metadata": {},
   "outputs": [],
   "source": []
  }
 ],
 "metadata": {
  "kernelspec": {
   "display_name": "Python 3 (ipykernel)",
   "language": "python",
   "name": "python3"
  },
  "language_info": {
   "codemirror_mode": {
    "name": "ipython",
    "version": 3
   },
   "file_extension": ".py",
   "mimetype": "text/x-python",
   "name": "python",
   "nbconvert_exporter": "python",
   "pygments_lexer": "ipython3",
   "version": "3.9.13"
  }
 },
 "nbformat": 4,
 "nbformat_minor": 5
}
